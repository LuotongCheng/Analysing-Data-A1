{
 "cells": [
  {
   "cell_type": "markdown",
   "metadata": {
    "id": "rbgjVp6BXGCT"
   },
   "source": [
    "\n",
    "# **Assignment 1**\n",
    "\n",
    "\n",
    "## Task 1. Correlation\n",
    "We will use the data example from the textbook \"Statistical Analysis with The General Linear Model\" by Miller and Haden (2013), Chapter 11.\n",
    "\n",
    "As in Miller and Haden, we have five columns:\n",
    "\n",
    "-Participant (Participant),\n",
    "\n",
    "-Reading Ability (Abil),\n",
    "\n",
    "-Intelligence (IQ),\n",
    "\n",
    "-Number of minutes spent reading at home per week (Home),\n",
    "\n",
    "-Number of minutes spent watching TV per week (TV).\n",
    "\n",
    "\n",
    "For the task we will focus on the relationship between Reading Ability and IQ, but for further practice you can look at other relationships on your own."
   ]
  },
  {
   "cell_type": "markdown",
   "metadata": {
    "id": "Z4cXzKORYFaD"
   },
   "source": [
    "**Question 1**:\n",
    "\n",
    "a. Check whether the data is interval, ratio, or ordinal.\n",
    "\n",
    "b. Check whether there is a data point for each participant on both variables.\n",
    "\n",
    "c. Check whether the data is normally distributed in both variables.\n",
    "\n",
    "d. Create a scatter plot with Reading Ability being the x-axis and IQ, being the y-axis.\n",
    "\n",
    "e. Draw a correlation line on the scatter plot.\n",
    "\n",
    "\n",
    "**Instructions:**\n",
    "\n",
    "1. Load the necessary libraries and explain why you need them (\"#used for ...\").\n",
    "\n",
    "2. Read the MillerHadenData.csv file into a DataFrame and name it \"df_mh\"."
   ]
  },
  {
   "cell_type": "code",
   "execution_count": 51,
   "metadata": {
    "id": "140M8Z4qYn_G"
   },
   "outputs": [],
   "source": [
    "import pandas as pd # used for data wrangling.\n",
    "import seaborn as sns # used for visualization.\n",
    "import matplotlib  # used for visualization.\n",
    "from matplotlib import pyplot as plt # used for visualization.\n",
    "import pylab # used for ...\n",
    "import pingouin as pg # used for various statistic analysis, such as Chi-squared tests and correlation coefficient. (https://pingouin-stats.org/build/html/index.html)\n",
    "\n",
    "df_mh = pd.read_csv('MillerHadenData.csv')"
   ]
  },
  {
   "cell_type": "markdown",
   "metadata": {},
   "source": [
    "**Q1a**"
   ]
  },
  {
   "cell_type": "code",
   "execution_count": 52,
   "metadata": {},
   "outputs": [
    {
     "data": {
      "text/html": [
       "<div>\n",
       "<style scoped>\n",
       "    .dataframe tbody tr th:only-of-type {\n",
       "        vertical-align: middle;\n",
       "    }\n",
       "\n",
       "    .dataframe tbody tr th {\n",
       "        vertical-align: top;\n",
       "    }\n",
       "\n",
       "    .dataframe thead th {\n",
       "        text-align: right;\n",
       "    }\n",
       "</style>\n",
       "<table border=\"1\" class=\"dataframe\">\n",
       "  <thead>\n",
       "    <tr style=\"text-align: right;\">\n",
       "      <th></th>\n",
       "      <th>Participant</th>\n",
       "      <th>Abil</th>\n",
       "      <th>IQ</th>\n",
       "      <th>Home</th>\n",
       "      <th>TV</th>\n",
       "    </tr>\n",
       "  </thead>\n",
       "  <tbody>\n",
       "    <tr>\n",
       "      <th>0</th>\n",
       "      <td>1</td>\n",
       "      <td>61</td>\n",
       "      <td>107</td>\n",
       "      <td>144</td>\n",
       "      <td>487</td>\n",
       "    </tr>\n",
       "    <tr>\n",
       "      <th>1</th>\n",
       "      <td>2</td>\n",
       "      <td>56</td>\n",
       "      <td>109</td>\n",
       "      <td>123</td>\n",
       "      <td>608</td>\n",
       "    </tr>\n",
       "    <tr>\n",
       "      <th>2</th>\n",
       "      <td>3</td>\n",
       "      <td>45</td>\n",
       "      <td>81</td>\n",
       "      <td>108</td>\n",
       "      <td>640</td>\n",
       "    </tr>\n",
       "    <tr>\n",
       "      <th>3</th>\n",
       "      <td>4</td>\n",
       "      <td>66</td>\n",
       "      <td>100</td>\n",
       "      <td>155</td>\n",
       "      <td>493</td>\n",
       "    </tr>\n",
       "    <tr>\n",
       "      <th>4</th>\n",
       "      <td>5</td>\n",
       "      <td>49</td>\n",
       "      <td>92</td>\n",
       "      <td>103</td>\n",
       "      <td>636</td>\n",
       "    </tr>\n",
       "  </tbody>\n",
       "</table>\n",
       "</div>"
      ],
      "text/plain": [
       "   Participant  Abil   IQ  Home   TV\n",
       "0            1    61  107   144  487\n",
       "1            2    56  109   123  608\n",
       "2            3    45   81   108  640\n",
       "3            4    66  100   155  493\n",
       "4            5    49   92   103  636"
      ]
     },
     "execution_count": 52,
     "metadata": {},
     "output_type": "execute_result"
    }
   ],
   "source": [
    "# Q1a (code):\n",
    "# Display first few rows of the dataframe\n",
    "\n",
    "df_mh.head()"
   ]
  },
  {
   "cell_type": "code",
   "execution_count": 53,
   "metadata": {
    "id": "rwqidw5q2D1n"
   },
   "outputs": [
    {
     "name": "stdout",
     "output_type": "stream",
     "text": [
      "<class 'pandas.core.frame.DataFrame'>\n",
      "RangeIndex: 25 entries, 0 to 24\n",
      "Data columns (total 5 columns):\n",
      " #   Column       Non-Null Count  Dtype\n",
      "---  ------       --------------  -----\n",
      " 0   Participant  25 non-null     int64\n",
      " 1   Abil         25 non-null     int64\n",
      " 2   IQ           25 non-null     int64\n",
      " 3   Home         25 non-null     int64\n",
      " 4   TV           25 non-null     int64\n",
      "dtypes: int64(5)\n",
      "memory usage: 1.1 KB\n"
     ]
    }
   ],
   "source": [
    "# Check data types and information\n",
    "df_mh.info()"
   ]
  },
  {
   "cell_type": "markdown",
   "metadata": {},
   "source": [
    "**Information**\n",
    "1. The dataset has 25 entries (participants).\n",
    "2. There is no null values in the dataset. \n",
    "\n",
    "**Data types**\n",
    "1. All columns have a data type of [int64](https://learn.microsoft.com/en-us/dotnet/api/system.int64?view=net-8.0) (a 64-bit integer data type). "
   ]
  },
  {
   "cell_type": "markdown",
   "metadata": {},
   "source": [
    "Q1a answer\n",
    "\n",
    "1. Participant (Participant): The number of each participant is an identifier and the order has no meaning so it is nominal data.\n",
    "\n",
    "2. Reading Ability (Abil), Intelligence (IQ), Number of minutes spent reading at home per week (Home), Number of minutes spent watching TV per week (TV): They are ratio data since they have a well-defined order, scale, and true zero point."
   ]
  },
  {
   "cell_type": "markdown",
   "metadata": {},
   "source": [
    "**Q1b**"
   ]
  },
  {
   "cell_type": "code",
   "execution_count": 54,
   "metadata": {
    "id": "Edd9mYgi2Jar"
   },
   "outputs": [
    {
     "name": "stdout",
     "output_type": "stream",
     "text": [
      "Q1b answer\n",
      "There is a data point for each participant on both Reading Ability and IQ.\n"
     ]
    }
   ],
   "source": [
    "# Q1b (code):\n",
    "# Check for missing values. \n",
    "# Check if there is null value in 'Abil' or 'IQ' and get the total number of the null values.\n",
    "missing_values = df_mh[['Abil', 'IQ']].isnull().sum()\n",
    "\n",
    "# Check whether there is a data point for each participant on both variables\n",
    "# if there is null value in either Abil or IQ, there are missing values. \n",
    "# If not, there is a data point for each participant on both columns. \n",
    "print(\"Q1b answer\")\n",
    "if missing_values['Abil'] == 0 and missing_values['IQ'] == 0:\n",
    "    print(\"There is a data point for each participant on both Reading Ability and IQ.\")\n",
    "else:\n",
    "    print(\"There are missing values in either Reading Ability or IQ columns.\")"
   ]
  },
  {
   "cell_type": "code",
   "execution_count": 55,
   "metadata": {},
   "outputs": [
    {
     "data": {
      "image/png": "[encoded data removed]",
      "text/plain": [
       "<Figure size 640x480 with 1 Axes>"
      ]
     },
     "metadata": {},
     "output_type": "display_data"
    },
    {
     "data": {
      "image/png": "[encoded data removed]",
      "text/plain": [
       "<Figure size 640x480 with 1 Axes>"
      ]
     },
     "metadata": {},
     "output_type": "display_data"
    }
   ],
   "source": [
    "# Q1c (code):\n",
    "# Check data distribution\n",
    "\n",
    "# Check the distribution of Reading Ability\n",
    "plt.hist(df_mh['Abil'])\n",
    "plt.title('Reading Ability Distribution')\n",
    "plt.xlabel('Reading Ability')\n",
    "plt.ylabel('Frequency')\n",
    "plt.show()\n",
    "\n",
    "# Check the distribution of IQ\n",
    "plt.hist(df_mh['IQ'])\n",
    "plt.title('IQ Distribution')\n",
    "plt.xlabel('IQ')\n",
    "plt.ylabel('Frequency')\n",
    "plt.show()"
   ]
  },
  {
   "cell_type": "code",
   "execution_count": 56,
   "metadata": {
    "id": "3ALe0fjr2K5h"
   },
   "outputs": [
    {
     "name": "stdout",
     "output_type": "stream",
     "text": [
      "Normality of the data distribution on Reading Ability:\n",
      "             W      pval  normal\n",
      "Abil  0.948795  0.235491    True\n",
      "Normality of the data distribution on IQ:\n",
      "           W      pval  normal\n",
      "IQ  0.963604  0.490811    True\n"
     ]
    }
   ],
   "source": [
    "# Check the normality of the data distribution on Reading Ability\n",
    "normality_abil = pg.normality(df_mh['Abil'])\n",
    "\n",
    "# Check the normality of the data distribution on IQ\n",
    "normality_iq = pg.normality(df_mh['IQ'])\n",
    "\n",
    "print(\"Normality of the data distribution on Reading Ability:\")\n",
    "print(normality_abil)\n",
    "\n",
    "print(\"Normality of the data distribution on IQ:\")\n",
    "print(normality_iq)"
   ]
  },
  {
   "cell_type": "markdown",
   "metadata": {},
   "source": [
    "[Pingouin.normality](https://pingouin-stats.org/build/html/generated/pingouin.normality.html) assesses whether the data distributes normally. The \"W\" indicates how well the data fits a normal distribution. p-value is used for check the test results. The test rejects the hypothesis of normality when the p-value is less than or equal to 0.05.\n",
    "\n",
    "Q1c answer\n",
    "\n",
    "The data is normally distributed in both Reading Ability and IQ. "
   ]
  },
  {
   "cell_type": "code",
   "execution_count": 57,
   "metadata": {
    "id": "xaQ300fY2MPe"
   },
   "outputs": [
    {
     "data": {
      "image/png": "[encoded data removed]",
      "text/plain": [
       "<Figure size 640x480 with 1 Axes>"
      ]
     },
     "metadata": {},
     "output_type": "display_data"
    }
   ],
   "source": [
    "# Q1d (code):\n",
    "# Scatter plot\n",
    "# We use the scatter() function - full documentation: https://matplotlib.org/3.1.1/api/_as_gen/matplotlib.pyplot.scatter.html\n",
    "\n",
    "# extract the values from the 'Abil' and 'IQ' columns.\n",
    "Reading_Ability = df_mh['Abil']\n",
    "IQ = df_mh['IQ']\n",
    "\n",
    "# Create scatter plot\n",
    "# Use the values of 'Reading_Ability' on the x-axis and 'IQ' on the y-axis. \n",
    "# The parameter `c=\"r\"` sets the color of the markers in the plot to red.\n",
    "plt.scatter(Reading_Ability, IQ, c=\"r\")\n",
    "# set the labels for the x-axis and y-axis of the scatter plot as \"Reading_Ability\" and \"IQ\", respectively.\n",
    "plt.xlabel(\"Reading_Ability\")\n",
    "plt.ylabel(\"IQ\")\n",
    "plt.show()"
   ]
  },
  {
   "cell_type": "code",
   "execution_count": 58,
   "metadata": {
    "id": "Zpkwqc382N06"
   },
   "outputs": [
    {
     "data": {
      "image/png": "[encoded data removed]",
      "text/plain": [
       "<Figure size 640x480 with 1 Axes>"
      ]
     },
     "metadata": {},
     "output_type": "display_data"
    }
   ],
   "source": [
    "# Q1e (code):\n",
    "# Correlation line\n",
    "\n",
    "# To draw the correlation line, we use regplot() from the seaborn package.\n",
    "# regplot() takes in input a pandas dataframe, specified by the attribute \"data\". \n",
    "# We can specify the variables Abil and IQ in the x and y axes.\n",
    "plot_corr_sns = sns.regplot(x=\"Abil\", y=\"IQ\", color=\"r\", data=df_mh)\n",
    "plt.show() "
   ]
  },
  {
   "cell_type": "markdown",
   "metadata": {
    "id": "tKtW2diqZq1S"
   },
   "source": [
    "**Question 2**:\n",
    "\n",
    "a. Which correlation coefficient test can we use, Pearson or Spearman? Briefly explian why based on the results of Question 1.\n",
    "\n",
    "b. Conduct a correlation coefficient test.\n",
    "\n",
    "c. Interpret the result (direction and strength of the association between the two varibles)"
   ]
  },
  {
   "cell_type": "markdown",
   "metadata": {
    "id": "t5GRVxHwaKIS"
   },
   "source": [
    "Q2a answer\n",
    "\n",
    "We can use Pearson correlation coefficient test in this case. The Pearson correlation coefficient is a parametric measure of correlation that assesses the strength and direction of a linear relationship between two variables that are normally distributed. Since the data for Reading Ability and IQ is normally distributed according to the result of Q1c, and there is a linear relationship between them, according to Q1e, the Pearson correlation coefficient test would be more suitable in this case."
   ]
  },
  {
   "cell_type": "code",
   "execution_count": 59,
   "metadata": {
    "id": "LTSp6xMFaKgf"
   },
   "outputs": [
    {
     "data": {
      "text/html": [
       "<div>\n",
       "<style scoped>\n",
       "    .dataframe tbody tr th:only-of-type {\n",
       "        vertical-align: middle;\n",
       "    }\n",
       "\n",
       "    .dataframe tbody tr th {\n",
       "        vertical-align: top;\n",
       "    }\n",
       "\n",
       "    .dataframe thead th {\n",
       "        text-align: right;\n",
       "    }\n",
       "</style>\n",
       "<table border=\"1\" class=\"dataframe\">\n",
       "  <thead>\n",
       "    <tr style=\"text-align: right;\">\n",
       "      <th></th>\n",
       "      <th>n</th>\n",
       "      <th>r</th>\n",
       "      <th>CI95%</th>\n",
       "      <th>p-val</th>\n",
       "      <th>BF10</th>\n",
       "      <th>power</th>\n",
       "    </tr>\n",
       "  </thead>\n",
       "  <tbody>\n",
       "    <tr>\n",
       "      <th>pearson</th>\n",
       "      <td>25</td>\n",
       "      <td>0.45117</td>\n",
       "      <td>[0.07, 0.72]</td>\n",
       "      <td>0.023593</td>\n",
       "      <td>2.804</td>\n",
       "      <td>0.640299</td>\n",
       "    </tr>\n",
       "  </tbody>\n",
       "</table>\n",
       "</div>"
      ],
      "text/plain": [
       "          n        r         CI95%     p-val   BF10     power\n",
       "pearson  25  0.45117  [0.07, 0.72]  0.023593  2.804  0.640299"
      ]
     },
     "execution_count": 59,
     "metadata": {},
     "output_type": "execute_result"
    }
   ],
   "source": [
    "# Q2b (code):\n",
    "Reading_Ability = df_mh['Abil']\n",
    "IQ = df_mh['IQ']\n",
    "corr_abil_iq = pg.corr(Reading_Ability, IQ)\n",
    "corr_abil_iq"
   ]
  },
  {
   "cell_type": "markdown",
   "metadata": {
    "id": "m_3aCSG7ylFJ"
   },
   "source": [
    "- n: The sample size, i.e. how many observations were included in the calculation of the correlation coefficient.\n",
    "\n",
    "- r: The correlation coefficient.\n",
    "\n",
    "- CI95: The 95% confidence intervals around the correlation coefficient.\n",
    "\n",
    "- p-val: the p-value of the test. The hypothesis that the two variables are not correlated will be rejected if the p-value is below 0.05.\n",
    "\n",
    "- BF10: The Bayes Factor of the test, which also measure the statistical significance of the test. It directly measures the strength of evidence in favor of the initial hypothesis. If this value is very small, it indicates that there is not very strong evidence that the two variables are indeed correlated. \n",
    "\n",
    "- power: The achieved power of the test, which is the likelihood that we will detect an effect when there is indeed an effect there to be detected. The higher this value is, the more robust our test is. "
   ]
  },
  {
   "cell_type": "markdown",
   "metadata": {},
   "source": [
    "Q2c answer\n",
    "\n",
    "The Pearson correlation coefficient value of 0.45117 indicates a moderate positive correlation between the Reading Ability and IQ. The direction of the correlation is positive, indicating that an increase in Reading Ability is associated with an increase in IQ. The strength of the correlation is moderate, suggesting a not strong relationship between the two variables."
   ]
  },
  {
   "cell_type": "markdown",
   "metadata": {
    "id": "mogdaz8P27oU"
   },
   "source": [
    "## Task 2. Chi-square Test\n",
    "We will continue to use the data example from Task 1.\n",
    "\n",
    "We want to explore whether there are significant differences in the amount of time spent reading at home per week (Home) among people with different reading abilities (Reading Ability). Therefore, we will divide the reading ability of all participants into two groups. The first group is those with low reading ability (Reading Ability at or below the rounded average), and the second group is those with high reading ability (Reading Ability above the rounded average). We will store this grouping in a new column named \"Rank_Abil\".\n",
    "\n",
    "\n",
    "Similarly, the reading time is divided into two different scenarios: the first scenario is infrequent reading (Home at or below the rounded average), and the other is frequent reading (Reading Ability above the rounded average). We will store this grouping in a new column named \"Rank_Home\".\n",
    "\n",
    "\n",
    "Then, construct a Contingency Matrix and perform a Chi-square test.\n",
    "\n",
    "**Question 3**:\n",
    "\n",
    "a. Please state the null hypothesis (H0) and alternative hypothesis (H1) for this Chi-square test.\n",
    "\n",
    "b. Based on the task description, add new columns “Rank_Abil” and \"Rank_Home\" to the dataframe df_mh.\n",
    "\n",
    "c. Construct a Contingency Matrix.\n",
    "\n",
    "d. Perform a Chi-square test.\n",
    "\n",
    "e. Interpret the results of the Chi-square test (answer in text)."
   ]
  },
  {
   "cell_type": "markdown",
   "metadata": {
    "id": "tIKHfEwG-Pte"
   },
   "source": [
    "Q3a answer\n",
    "\n",
    "H0: There is no relationship between reading ability and the amount of time spent reading at home per week.\n",
    "\n",
    "H1：There is a significant relationship between reading ability and the amount of time spent reading at home per week."
   ]
  },
  {
   "cell_type": "code",
   "execution_count": 60,
   "metadata": {
    "id": "nlO-hmq2-V2Z"
   },
   "outputs": [],
   "source": [
    "# Q3b (code):\n",
    "# Import necessary libraries\n",
    "import pandas as pd  ##used for data wrangling. \n",
    "from scipy.stats import chi2_contingency ##used for performing the Chi-square test\n",
    "import numpy as np ##used for creating contingency matrix\n",
    "\n",
    "# Define the rounded average for Reading Ability and Home\n",
    "reading_ability_avg = df_mh['Abil'].mean().round()\n",
    "home_avg = df_mh['Home'].mean().round()\n",
    "\n",
    "# Use the `apply` method with a lambda function to compare each value in the 'Abil' and 'Home' \n",
    "# (https://pandas.pydata.org/pandas-docs/stable/reference/api/pandas.DataFrame.apply.html)\n",
    "# Create the Rank_Abil column\n",
    "df_mh['Rank_Abil'] = df_mh['Abil'].apply(lambda x: 'High' if x > reading_ability_avg else 'Low')\n",
    "\n",
    "# Create the Rank_Home column\n",
    "df_mh['Rank_Home'] = df_mh['Home'].apply(lambda x: 'Frequent' if x > home_avg else 'Infrequent')"
   ]
  },
  {
   "cell_type": "code",
   "execution_count": 61,
   "metadata": {},
   "outputs": [
    {
     "data": {
      "text/html": [
       "<div>\n",
       "<style scoped>\n",
       "    .dataframe tbody tr th:only-of-type {\n",
       "        vertical-align: middle;\n",
       "    }\n",
       "\n",
       "    .dataframe tbody tr th {\n",
       "        vertical-align: top;\n",
       "    }\n",
       "\n",
       "    .dataframe thead th {\n",
       "        text-align: right;\n",
       "    }\n",
       "</style>\n",
       "<table border=\"1\" class=\"dataframe\">\n",
       "  <thead>\n",
       "    <tr style=\"text-align: right;\">\n",
       "      <th></th>\n",
       "      <th>Participant</th>\n",
       "      <th>Abil</th>\n",
       "      <th>IQ</th>\n",
       "      <th>Home</th>\n",
       "      <th>TV</th>\n",
       "      <th>Rank_Abil</th>\n",
       "      <th>Rank_Home</th>\n",
       "    </tr>\n",
       "  </thead>\n",
       "  <tbody>\n",
       "    <tr>\n",
       "      <th>0</th>\n",
       "      <td>1</td>\n",
       "      <td>61</td>\n",
       "      <td>107</td>\n",
       "      <td>144</td>\n",
       "      <td>487</td>\n",
       "      <td>High</td>\n",
       "      <td>Frequent</td>\n",
       "    </tr>\n",
       "    <tr>\n",
       "      <th>1</th>\n",
       "      <td>2</td>\n",
       "      <td>56</td>\n",
       "      <td>109</td>\n",
       "      <td>123</td>\n",
       "      <td>608</td>\n",
       "      <td>High</td>\n",
       "      <td>Infrequent</td>\n",
       "    </tr>\n",
       "    <tr>\n",
       "      <th>2</th>\n",
       "      <td>3</td>\n",
       "      <td>45</td>\n",
       "      <td>81</td>\n",
       "      <td>108</td>\n",
       "      <td>640</td>\n",
       "      <td>Low</td>\n",
       "      <td>Infrequent</td>\n",
       "    </tr>\n",
       "    <tr>\n",
       "      <th>3</th>\n",
       "      <td>4</td>\n",
       "      <td>66</td>\n",
       "      <td>100</td>\n",
       "      <td>155</td>\n",
       "      <td>493</td>\n",
       "      <td>High</td>\n",
       "      <td>Frequent</td>\n",
       "    </tr>\n",
       "    <tr>\n",
       "      <th>4</th>\n",
       "      <td>5</td>\n",
       "      <td>49</td>\n",
       "      <td>92</td>\n",
       "      <td>103</td>\n",
       "      <td>636</td>\n",
       "      <td>Low</td>\n",
       "      <td>Infrequent</td>\n",
       "    </tr>\n",
       "  </tbody>\n",
       "</table>\n",
       "</div>"
      ],
      "text/plain": [
       "   Participant  Abil   IQ  Home   TV Rank_Abil   Rank_Home\n",
       "0            1    61  107   144  487      High    Frequent\n",
       "1            2    56  109   123  608      High  Infrequent\n",
       "2            3    45   81   108  640       Low  Infrequent\n",
       "3            4    66  100   155  493      High    Frequent\n",
       "4            5    49   92   103  636       Low  Infrequent"
      ]
     },
     "execution_count": 61,
     "metadata": {},
     "output_type": "execute_result"
    }
   ],
   "source": [
    "df_mh.head()"
   ]
  },
  {
   "cell_type": "code",
   "execution_count": 62,
   "metadata": {},
   "outputs": [
    {
     "name": "stdout",
     "output_type": "stream",
     "text": [
      "The contingency matrix\n",
      "[[ 8  2]\n",
      " [ 3 12]]\n"
     ]
    }
   ],
   "source": [
    "# Q3c (code):\n",
    "# Construct Contingency Matrix\n",
    "datacontingency = pd.crosstab(df_mh[\"Rank_Abil\"], df_mh[\"Rank_Home\"])\n",
    "data_cm = np.array(datacontingency).reshape(2,-1)\n",
    "print('The contingency matrix')\n",
    "print(data_cm)"
   ]
  },
  {
   "cell_type": "code",
   "execution_count": 63,
   "metadata": {},
   "outputs": [
    {
     "name": "stdout",
     "output_type": "stream",
     "text": [
      "6.500270562770561 0.010785807794066234\n",
      "These are the expected frequencies\n",
      "[[4.4 5.6]\n",
      " [6.6 8.4]]\n"
     ]
    }
   ],
   "source": [
    "# Q3d (code):\n",
    "# Perform the Chi-square test\n",
    "chi2, p_value, degree_of_freedom, expected_frequencies = chi2_contingency(data_cm)\n",
    "print(chi2, p_value)\n",
    "print('These are the expected frequencies')\n",
    "print(expected_frequencies)"
   ]
  },
  {
   "cell_type": "markdown",
   "metadata": {},
   "source": [
    "Q3e answer\n",
    "\n",
    "The Chi-square value is used to determine if there is a significant association between the categorical variables.\n",
    "The result indicates that there is a significant difference between the observed and expected frequencies.\n",
    "\n",
    "The p-value of is smaller than 0.05, suggesting that the null hypothesis is rejected. Therefore, there is a statistically significant relationship between the variables \"Rank_Abil\" and \"Rank_Home.\" However, given that the results is based on playground data, there might be biases or incorrect data, impacting the results."
   ]
  },
  {
   "cell_type": "markdown",
   "metadata": {
    "id": "FgYRxqqpaUIk"
   },
   "source": [
    "## Task 3. Two-sample t-test\n",
    "As we discussed on Week 3, Two-sample designs are very useful when we want to know whether there is a difference between groups on a particular variable.\n",
    "\n",
    "In this assignment, you will be guided to replicate the Experiment 4 (p. 887-888) from the paper below, focusing on understanding the data through descriptive statistics, visualizing distributions, testing assumptions (normality and variance homogeneity), and finally performing the independent t-test.\n",
    "\n",
    "Schroeder, J. and Epley, N. (2015). The sound of intellect: Speech reveals a thoughtful mind, increasing a job candidate's appeal. Psychological Science, 26, 277--891.\n",
    "\n",
    "\n",
    "As we explained during Week 3 lecture, there are different types of two-sample designs depending on whether or not the two groups are independent (e.g., different participants in different conditions) or not (e.g., same participants in different conditions). In this course we focus on independent samples, which typically means that the observations in the two groups are unrelated - usually meaning different people. But in real practice you will need to go through similar procedures to determine which is the proper statistical test to use.\n",
    "\n",
    "\n",
    "\n",
    "\n",
    "### Background of data: Speech as indicator of intellect\n",
    "To recap on Experiment 4, 39 professional recruiters from Fortune 500 companies evaluated job pitches of M.B.A. candidates (Masters in Business Administration) from the University of Chicago Booth School of Business. The methods and results appear on pages 887--889 of the article if you want to look at them specifically for more details."
   ]
  },
  {
   "cell_type": "markdown",
   "metadata": {
    "id": "vIc57Glgn5Bb"
   },
   "source": [
    "###Step 1: Analyze the demographics of evaluators from the provided dataset\n",
    "\n",
    "**Instructions:**\n",
    "\n",
    "1. Load the necessary libraries (pandas, scipy, numpy, matplotlib.pyplot, seaborn) and explain why you need them (\"#used for ...\").\n",
    "\n",
    "2. Read the evaluators.csv file into a DataFrame.\n",
    "\n",
    "3. Calculate the mean and standard deviation of the age of the evaluators, handling missing values appropriately.\n",
    "\n",
    "4. Count how many male and female evaluators were in the study.\n",
    "\n",
    "**Question 4:**\n",
    "\n",
    "a. What was the mean age of the evaluators?\n",
    "What was the standard deviation of the age of the evaluators?\n",
    "\n",
    "b. How many participants were female and how many participants were male?\n"
   ]
  },
  {
   "cell_type": "code",
   "execution_count": 64,
   "metadata": {
    "id": "RgnTye-yojyH"
   },
   "outputs": [
    {
     "data": {
      "text/html": [
       "<div>\n",
       "<style scoped>\n",
       "    .dataframe tbody tr th:only-of-type {\n",
       "        vertical-align: middle;\n",
       "    }\n",
       "\n",
       "    .dataframe tbody tr th {\n",
       "        vertical-align: top;\n",
       "    }\n",
       "\n",
       "    .dataframe thead th {\n",
       "        text-align: right;\n",
       "    }\n",
       "</style>\n",
       "<table border=\"1\" class=\"dataframe\">\n",
       "  <thead>\n",
       "    <tr style=\"text-align: right;\">\n",
       "      <th></th>\n",
       "      <th>eval_id</th>\n",
       "      <th>condition</th>\n",
       "      <th>age</th>\n",
       "      <th>sex</th>\n",
       "    </tr>\n",
       "  </thead>\n",
       "  <tbody>\n",
       "    <tr>\n",
       "      <th>0</th>\n",
       "      <td>1</td>\n",
       "      <td>listened</td>\n",
       "      <td>29.0</td>\n",
       "      <td>2.0</td>\n",
       "    </tr>\n",
       "    <tr>\n",
       "      <th>1</th>\n",
       "      <td>2</td>\n",
       "      <td>listened</td>\n",
       "      <td>27.0</td>\n",
       "      <td>2.0</td>\n",
       "    </tr>\n",
       "    <tr>\n",
       "      <th>2</th>\n",
       "      <td>3</td>\n",
       "      <td>listened</td>\n",
       "      <td>27.0</td>\n",
       "      <td>2.0</td>\n",
       "    </tr>\n",
       "    <tr>\n",
       "      <th>3</th>\n",
       "      <td>4</td>\n",
       "      <td>read</td>\n",
       "      <td>40.0</td>\n",
       "      <td>2.0</td>\n",
       "    </tr>\n",
       "    <tr>\n",
       "      <th>4</th>\n",
       "      <td>5</td>\n",
       "      <td>read</td>\n",
       "      <td>32.0</td>\n",
       "      <td>2.0</td>\n",
       "    </tr>\n",
       "  </tbody>\n",
       "</table>\n",
       "</div>"
      ],
      "text/plain": [
       "   eval_id condition   age  sex\n",
       "0        1  listened  29.0  2.0\n",
       "1        2  listened  27.0  2.0\n",
       "2        3  listened  27.0  2.0\n",
       "3        4      read  40.0  2.0\n",
       "4        5      read  32.0  2.0"
      ]
     },
     "execution_count": 64,
     "metadata": {},
     "output_type": "execute_result"
    }
   ],
   "source": [
    "import pandas as pd # used for data wrangling.\n",
    "from scipy import stats # used for Shapiro-Wilk test and Levene's test and independent t-tests\n",
    "import numpy as np #\n",
    "import matplotlib.pyplot as plt ## used for visualization \n",
    "import seaborn as sns # used for visualization \n",
    "\n",
    "# Load the data\n",
    "df_evaluators = pd.read_csv('evaluators.csv')\n",
    "df_evaluators.head()"
   ]
  },
  {
   "cell_type": "code",
   "execution_count": 65,
   "metadata": {
    "id": "eDw0XnX3BRhe"
   },
   "outputs": [
    {
     "name": "stdout",
     "output_type": "stream",
     "text": [
      "Mean age: 30.852941176470587\n",
      "Standard deviation of age: 6.238358141327351\n"
     ]
    }
   ],
   "source": [
    "# Q4a (code):\n",
    "# Calculate mean and standard deviation for age\n",
    "age_mean = df_evaluators['age'].mean()\n",
    "age_std = df_evaluators['age'].std()\n",
    "\n",
    "print(\"Mean age:\", age_mean)\n",
    "print(\"Standard deviation of age:\", age_std)"
   ]
  },
  {
   "cell_type": "code",
   "execution_count": 66,
   "metadata": {
    "id": "I0tU57R5ufRI"
   },
   "outputs": [
    {
     "name": "stdout",
     "output_type": "stream",
     "text": [
      "Number of male evaluators: 4\n",
      "Number of female evaluators: 30\n"
     ]
    }
   ],
   "source": [
    "# Q4b (code)\n",
    "# Count male and female evaluators\n",
    "# In the 'sex' column: 1 represents males and 2 represents females\n",
    "\n",
    "male_count = df_evaluators[df_evaluators['sex'] == 1]['sex'].count()\n",
    "female_count = df_evaluators[df_evaluators['sex'] == 2]['sex'].count()\n",
    "\n",
    "print(\"Number of male evaluators:\", male_count)\n",
    "print(\"Number of female evaluators:\", female_count)"
   ]
  },
  {
   "cell_type": "markdown",
   "metadata": {
    "id": "KK-MdZfdpDI3"
   },
   "source": [
    "###Step 2: Calculate overall intellect ratings from evaluators and prepare a combined dataset for analysis\n",
    "\n",
    "We are now going to calculate an overall intellect rating given by each evaluator. To break that down a bit, we are going to calculate how intellectual the evaluators (the raters) thought candidates were overall, depending on whether the evaluators read or listened to the candidates' resume pitches. This is calculated by averaging the ratings of competent, thoughtful and intelligent for each evaluator held within ratings.csv.\n",
    "\n",
    "Note: We are not looking at ratings to individual candidates; we are looking at overall ratings for each evaluator. This is a bit confusing but makes sense if you stop to think about it a little. You can think about it in terms of \"do raters rate differently depending on whether they read or listen to a resume pitch\".\n",
    "We will then combine the overall intellect rating with the overall impression ratings and overall hire ratings for each evaluator, all ready found in ratings.csv. In the end we will have a new new dataframe named \"ratings2\" - which has the below structure:\n",
    "\n",
    "**eval_id** shows the evaluator ID. Each evaluator has a different ID. So all the 1's are the same evaluator.\n",
    "\n",
    "**Category** shows the scale that they were rating on - intellect, hire, impression\n",
    "\n",
    "**Rating** shows the overall rating given by that evaluator on a given scale.\n",
    "\n",
    "**condition** shows whether that evaluator listened to (e.g., evaluators 1, 2 and 3), or read (e.g., evaluator 4) the resume.\n",
    "\n",
    "\n",
    "**Instructions:**\n",
    "\n",
    "1. Load the ratings.csv file.\n",
    "\n",
    "2. Filter and calculate the mean intellect rating for each evaluator.\n",
    "\n",
    "3. Combine this with overall impression and hire ratings to create a new DataFrame named \"rating2\".\n",
    "\n",
    "4. Merge this DataFrame with the evaluator demographics.\n",
    "\n",
    "**Question 5**:\n",
    "\n",
    "Print the head of \"rating2\".\n"
   ]
  },
  {
   "cell_type": "code",
   "execution_count": 67,
   "metadata": {
    "id": "l85NzSC-pj57"
   },
   "outputs": [
    {
     "data": {
      "text/html": [
       "<div>\n",
       "<style scoped>\n",
       "    .dataframe tbody tr th:only-of-type {\n",
       "        vertical-align: middle;\n",
       "    }\n",
       "\n",
       "    .dataframe tbody tr th {\n",
       "        vertical-align: top;\n",
       "    }\n",
       "\n",
       "    .dataframe thead th {\n",
       "        text-align: right;\n",
       "    }\n",
       "</style>\n",
       "<table border=\"1\" class=\"dataframe\">\n",
       "  <thead>\n",
       "    <tr style=\"text-align: right;\">\n",
       "      <th></th>\n",
       "      <th>eval_id</th>\n",
       "      <th>Category</th>\n",
       "      <th>Rating</th>\n",
       "    </tr>\n",
       "  </thead>\n",
       "  <tbody>\n",
       "    <tr>\n",
       "      <th>0</th>\n",
       "      <td>1</td>\n",
       "      <td>competent</td>\n",
       "      <td>6.0</td>\n",
       "    </tr>\n",
       "    <tr>\n",
       "      <th>1</th>\n",
       "      <td>1</td>\n",
       "      <td>thoughtful</td>\n",
       "      <td>6.0</td>\n",
       "    </tr>\n",
       "    <tr>\n",
       "      <th>2</th>\n",
       "      <td>1</td>\n",
       "      <td>intelligent</td>\n",
       "      <td>6.0</td>\n",
       "    </tr>\n",
       "    <tr>\n",
       "      <th>3</th>\n",
       "      <td>1</td>\n",
       "      <td>impression</td>\n",
       "      <td>7.0</td>\n",
       "    </tr>\n",
       "    <tr>\n",
       "      <th>4</th>\n",
       "      <td>1</td>\n",
       "      <td>hire</td>\n",
       "      <td>6.0</td>\n",
       "    </tr>\n",
       "  </tbody>\n",
       "</table>\n",
       "</div>"
      ],
      "text/plain": [
       "   eval_id     Category  Rating\n",
       "0        1    competent     6.0\n",
       "1        1   thoughtful     6.0\n",
       "2        1  intelligent     6.0\n",
       "3        1   impression     7.0\n",
       "4        1         hire     6.0"
      ]
     },
     "execution_count": 67,
     "metadata": {},
     "output_type": "execute_result"
    }
   ],
   "source": [
    "# Load ratings data\n",
    "df_ratings = pd.read_csv('ratings.csv')\n",
    "df_ratings.head()"
   ]
  },
  {
   "cell_type": "code",
   "execution_count": 68,
   "metadata": {},
   "outputs": [],
   "source": [
    "# Q5 (code):\n",
    "# Filter the ratings DataFrame to include only 'thoughtful', 'competent', and 'intelligent' categories\n",
    "filtered_df = df_ratings[df_ratings['Category'].isin(['thoughtful', 'competent', 'intelligent'])]"
   ]
  },
  {
   "cell_type": "code",
   "execution_count": 69,
   "metadata": {},
   "outputs": [
    {
     "data": {
      "text/html": [
       "<div>\n",
       "<style scoped>\n",
       "    .dataframe tbody tr th:only-of-type {\n",
       "        vertical-align: middle;\n",
       "    }\n",
       "\n",
       "    .dataframe tbody tr th {\n",
       "        vertical-align: top;\n",
       "    }\n",
       "\n",
       "    .dataframe thead th {\n",
       "        text-align: right;\n",
       "    }\n",
       "</style>\n",
       "<table border=\"1\" class=\"dataframe\">\n",
       "  <thead>\n",
       "    <tr style=\"text-align: right;\">\n",
       "      <th></th>\n",
       "      <th>eval_id</th>\n",
       "      <th>Category</th>\n",
       "      <th>Rating</th>\n",
       "    </tr>\n",
       "  </thead>\n",
       "  <tbody>\n",
       "    <tr>\n",
       "      <th>0</th>\n",
       "      <td>1</td>\n",
       "      <td>competent</td>\n",
       "      <td>6.0</td>\n",
       "    </tr>\n",
       "    <tr>\n",
       "      <th>1</th>\n",
       "      <td>1</td>\n",
       "      <td>thoughtful</td>\n",
       "      <td>6.0</td>\n",
       "    </tr>\n",
       "    <tr>\n",
       "      <th>2</th>\n",
       "      <td>1</td>\n",
       "      <td>intelligent</td>\n",
       "      <td>6.0</td>\n",
       "    </tr>\n",
       "    <tr>\n",
       "      <th>5</th>\n",
       "      <td>2</td>\n",
       "      <td>competent</td>\n",
       "      <td>5.0</td>\n",
       "    </tr>\n",
       "    <tr>\n",
       "      <th>6</th>\n",
       "      <td>2</td>\n",
       "      <td>thoughtful</td>\n",
       "      <td>7.0</td>\n",
       "    </tr>\n",
       "  </tbody>\n",
       "</table>\n",
       "</div>"
      ],
      "text/plain": [
       "   eval_id     Category  Rating\n",
       "0        1    competent     6.0\n",
       "1        1   thoughtful     6.0\n",
       "2        1  intelligent     6.0\n",
       "5        2    competent     5.0\n",
       "6        2   thoughtful     7.0"
      ]
     },
     "execution_count": 69,
     "metadata": {},
     "output_type": "execute_result"
    }
   ],
   "source": [
    "filtered_df.head()"
   ]
  },
  {
   "cell_type": "code",
   "execution_count": 70,
   "metadata": {},
   "outputs": [
    {
     "data": {
      "text/html": [
       "<div>\n",
       "<style scoped>\n",
       "    .dataframe tbody tr th:only-of-type {\n",
       "        vertical-align: middle;\n",
       "    }\n",
       "\n",
       "    .dataframe tbody tr th {\n",
       "        vertical-align: top;\n",
       "    }\n",
       "\n",
       "    .dataframe thead tr th {\n",
       "        text-align: left;\n",
       "    }\n",
       "</style>\n",
       "<table border=\"1\" class=\"dataframe\">\n",
       "  <thead>\n",
       "    <tr>\n",
       "      <th></th>\n",
       "      <th>eval_id</th>\n",
       "      <th>Rating</th>\n",
       "    </tr>\n",
       "    <tr>\n",
       "      <th></th>\n",
       "      <th></th>\n",
       "      <th>mean</th>\n",
       "    </tr>\n",
       "  </thead>\n",
       "  <tbody>\n",
       "    <tr>\n",
       "      <th>0</th>\n",
       "      <td>1</td>\n",
       "      <td>6.000000</td>\n",
       "    </tr>\n",
       "    <tr>\n",
       "      <th>1</th>\n",
       "      <td>2</td>\n",
       "      <td>5.666667</td>\n",
       "    </tr>\n",
       "    <tr>\n",
       "      <th>2</th>\n",
       "      <td>3</td>\n",
       "      <td>6.000000</td>\n",
       "    </tr>\n",
       "    <tr>\n",
       "      <th>3</th>\n",
       "      <td>4</td>\n",
       "      <td>3.333333</td>\n",
       "    </tr>\n",
       "    <tr>\n",
       "      <th>4</th>\n",
       "      <td>5</td>\n",
       "      <td>1.000000</td>\n",
       "    </tr>\n",
       "  </tbody>\n",
       "</table>\n",
       "</div>"
      ],
      "text/plain": [
       "  eval_id    Rating\n",
       "               mean\n",
       "0       1  6.000000\n",
       "1       2  5.666667\n",
       "2       3  6.000000\n",
       "3       4  3.333333\n",
       "4       5  1.000000"
      ]
     },
     "execution_count": 70,
     "metadata": {},
     "output_type": "execute_result"
    }
   ],
   "source": [
    "# Calculate the mean intellect rating for each evaluator\n",
    "# Group by 'eval_id' and calculate mean, then reset the index to convert groupby object back to DataFrame\n",
    "# agg() function uses one or more operations over the column 'Rating' after creating the subset dataframe with groupby().\n",
    "\n",
    "each_mean_rating = filtered_df.groupby(\"eval_id\").agg({'Rating' : ['mean']})\n",
    "each_mean_rating = each_mean_rating.reset_index()\n",
    "each_mean_rating.head()"
   ]
  },
  {
   "cell_type": "code",
   "execution_count": 71,
   "metadata": {},
   "outputs": [
    {
     "data": {
      "text/html": [
       "<div>\n",
       "<style scoped>\n",
       "    .dataframe tbody tr th:only-of-type {\n",
       "        vertical-align: middle;\n",
       "    }\n",
       "\n",
       "    .dataframe tbody tr th {\n",
       "        vertical-align: top;\n",
       "    }\n",
       "\n",
       "    .dataframe thead th {\n",
       "        text-align: right;\n",
       "    }\n",
       "</style>\n",
       "<table border=\"1\" class=\"dataframe\">\n",
       "  <thead>\n",
       "    <tr style=\"text-align: right;\">\n",
       "      <th></th>\n",
       "      <th>eval_id</th>\n",
       "      <th>Rating</th>\n",
       "      <th>Category</th>\n",
       "    </tr>\n",
       "  </thead>\n",
       "  <tbody>\n",
       "    <tr>\n",
       "      <th>0</th>\n",
       "      <td>1</td>\n",
       "      <td>6.000000</td>\n",
       "      <td>intellect</td>\n",
       "    </tr>\n",
       "    <tr>\n",
       "      <th>1</th>\n",
       "      <td>2</td>\n",
       "      <td>5.666667</td>\n",
       "      <td>intellect</td>\n",
       "    </tr>\n",
       "    <tr>\n",
       "      <th>2</th>\n",
       "      <td>3</td>\n",
       "      <td>6.000000</td>\n",
       "      <td>intellect</td>\n",
       "    </tr>\n",
       "    <tr>\n",
       "      <th>3</th>\n",
       "      <td>4</td>\n",
       "      <td>3.333333</td>\n",
       "      <td>intellect</td>\n",
       "    </tr>\n",
       "    <tr>\n",
       "      <th>4</th>\n",
       "      <td>5</td>\n",
       "      <td>1.000000</td>\n",
       "      <td>intellect</td>\n",
       "    </tr>\n",
       "  </tbody>\n",
       "</table>\n",
       "</div>"
      ],
      "text/plain": [
       "   eval_id    Rating   Category\n",
       "0        1  6.000000  intellect\n",
       "1        2  5.666667  intellect\n",
       "2        3  6.000000  intellect\n",
       "3        4  3.333333  intellect\n",
       "4        5  1.000000  intellect"
      ]
     },
     "execution_count": 71,
     "metadata": {},
     "output_type": "execute_result"
    }
   ],
   "source": [
    "# Add a 'Category' column with the value 'intellect' for these rows.\n",
    "each_mean_rating['Category'] = 'intellect'\n",
    "\n",
    "# Rename the columns to the names same as the second dataframe.\n",
    "each_mean_rating.columns = ['eval_id', 'Rating', 'Category']\n",
    "each_mean_rating.head()"
   ]
  },
  {
   "cell_type": "code",
   "execution_count": 72,
   "metadata": {},
   "outputs": [
    {
     "data": {
      "text/html": [
       "<div>\n",
       "<style scoped>\n",
       "    .dataframe tbody tr th:only-of-type {\n",
       "        vertical-align: middle;\n",
       "    }\n",
       "\n",
       "    .dataframe tbody tr th {\n",
       "        vertical-align: top;\n",
       "    }\n",
       "\n",
       "    .dataframe thead th {\n",
       "        text-align: right;\n",
       "    }\n",
       "</style>\n",
       "<table border=\"1\" class=\"dataframe\">\n",
       "  <thead>\n",
       "    <tr style=\"text-align: right;\">\n",
       "      <th></th>\n",
       "      <th>eval_id</th>\n",
       "      <th>Category</th>\n",
       "      <th>Rating</th>\n",
       "    </tr>\n",
       "  </thead>\n",
       "  <tbody>\n",
       "    <tr>\n",
       "      <th>3</th>\n",
       "      <td>1</td>\n",
       "      <td>impression</td>\n",
       "      <td>7.000000</td>\n",
       "    </tr>\n",
       "    <tr>\n",
       "      <th>4</th>\n",
       "      <td>1</td>\n",
       "      <td>hire</td>\n",
       "      <td>6.000000</td>\n",
       "    </tr>\n",
       "    <tr>\n",
       "      <th>8</th>\n",
       "      <td>2</td>\n",
       "      <td>impression</td>\n",
       "      <td>4.666667</td>\n",
       "    </tr>\n",
       "    <tr>\n",
       "      <th>9</th>\n",
       "      <td>2</td>\n",
       "      <td>hire</td>\n",
       "      <td>4.000000</td>\n",
       "    </tr>\n",
       "    <tr>\n",
       "      <th>13</th>\n",
       "      <td>3</td>\n",
       "      <td>impression</td>\n",
       "      <td>8.333333</td>\n",
       "    </tr>\n",
       "  </tbody>\n",
       "</table>\n",
       "</div>"
      ],
      "text/plain": [
       "    eval_id    Category    Rating\n",
       "3         1  impression  7.000000\n",
       "4         1        hire  6.000000\n",
       "8         2  impression  4.666667\n",
       "9         2        hire  4.000000\n",
       "13        3  impression  8.333333"
      ]
     },
     "execution_count": 72,
     "metadata": {},
     "output_type": "execute_result"
    }
   ],
   "source": [
    "# Create a DataFrame for 'impression' and 'hire' ratings.\n",
    "filtered_df2 = df_ratings[df_ratings['Category'].isin(['impression', 'hire'])]\n",
    "filtered_df2.head()"
   ]
  },
  {
   "cell_type": "code",
   "execution_count": 73,
   "metadata": {},
   "outputs": [],
   "source": [
    "# Create 'ratings2' DataFrame by concatenating 'each_mean_rating' and 'filtered_df2'.\n",
    "ratings2 = pd.concat([each_mean_rating, filtered_df2])"
   ]
  },
  {
   "cell_type": "code",
   "execution_count": 74,
   "metadata": {},
   "outputs": [
    {
     "data": {
      "text/html": [
       "<div>\n",
       "<style scoped>\n",
       "    .dataframe tbody tr th:only-of-type {\n",
       "        vertical-align: middle;\n",
       "    }\n",
       "\n",
       "    .dataframe tbody tr th {\n",
       "        vertical-align: top;\n",
       "    }\n",
       "\n",
       "    .dataframe thead th {\n",
       "        text-align: right;\n",
       "    }\n",
       "</style>\n",
       "<table border=\"1\" class=\"dataframe\">\n",
       "  <thead>\n",
       "    <tr style=\"text-align: right;\">\n",
       "      <th></th>\n",
       "      <th>eval_id</th>\n",
       "      <th>Rating</th>\n",
       "      <th>Category</th>\n",
       "    </tr>\n",
       "  </thead>\n",
       "  <tbody>\n",
       "    <tr>\n",
       "      <th>0</th>\n",
       "      <td>1</td>\n",
       "      <td>6.000000</td>\n",
       "      <td>intellect</td>\n",
       "    </tr>\n",
       "    <tr>\n",
       "      <th>1</th>\n",
       "      <td>2</td>\n",
       "      <td>5.666667</td>\n",
       "      <td>intellect</td>\n",
       "    </tr>\n",
       "    <tr>\n",
       "      <th>2</th>\n",
       "      <td>3</td>\n",
       "      <td>6.000000</td>\n",
       "      <td>intellect</td>\n",
       "    </tr>\n",
       "    <tr>\n",
       "      <th>3</th>\n",
       "      <td>4</td>\n",
       "      <td>3.333333</td>\n",
       "      <td>intellect</td>\n",
       "    </tr>\n",
       "    <tr>\n",
       "      <th>4</th>\n",
       "      <td>5</td>\n",
       "      <td>1.000000</td>\n",
       "      <td>intellect</td>\n",
       "    </tr>\n",
       "  </tbody>\n",
       "</table>\n",
       "</div>"
      ],
      "text/plain": [
       "   eval_id    Rating   Category\n",
       "0        1  6.000000  intellect\n",
       "1        2  5.666667  intellect\n",
       "2        3  6.000000  intellect\n",
       "3        4  3.333333  intellect\n",
       "4        5  1.000000  intellect"
      ]
     },
     "execution_count": 74,
     "metadata": {},
     "output_type": "execute_result"
    }
   ],
   "source": [
    "ratings2.head()"
   ]
  },
  {
   "cell_type": "code",
   "execution_count": 75,
   "metadata": {},
   "outputs": [
    {
     "data": {
      "text/html": [
       "<div>\n",
       "<style scoped>\n",
       "    .dataframe tbody tr th:only-of-type {\n",
       "        vertical-align: middle;\n",
       "    }\n",
       "\n",
       "    .dataframe tbody tr th {\n",
       "        vertical-align: top;\n",
       "    }\n",
       "\n",
       "    .dataframe thead th {\n",
       "        text-align: right;\n",
       "    }\n",
       "</style>\n",
       "<table border=\"1\" class=\"dataframe\">\n",
       "  <thead>\n",
       "    <tr style=\"text-align: right;\">\n",
       "      <th></th>\n",
       "      <th>eval_id</th>\n",
       "      <th>Rating</th>\n",
       "      <th>Category</th>\n",
       "      <th>condition</th>\n",
       "      <th>age</th>\n",
       "      <th>sex</th>\n",
       "    </tr>\n",
       "  </thead>\n",
       "  <tbody>\n",
       "    <tr>\n",
       "      <th>0</th>\n",
       "      <td>1</td>\n",
       "      <td>6.000000</td>\n",
       "      <td>intellect</td>\n",
       "      <td>listened</td>\n",
       "      <td>29.0</td>\n",
       "      <td>2.0</td>\n",
       "    </tr>\n",
       "    <tr>\n",
       "      <th>1</th>\n",
       "      <td>1</td>\n",
       "      <td>7.000000</td>\n",
       "      <td>impression</td>\n",
       "      <td>listened</td>\n",
       "      <td>29.0</td>\n",
       "      <td>2.0</td>\n",
       "    </tr>\n",
       "    <tr>\n",
       "      <th>2</th>\n",
       "      <td>1</td>\n",
       "      <td>6.000000</td>\n",
       "      <td>hire</td>\n",
       "      <td>listened</td>\n",
       "      <td>29.0</td>\n",
       "      <td>2.0</td>\n",
       "    </tr>\n",
       "    <tr>\n",
       "      <th>3</th>\n",
       "      <td>2</td>\n",
       "      <td>5.666667</td>\n",
       "      <td>intellect</td>\n",
       "      <td>listened</td>\n",
       "      <td>27.0</td>\n",
       "      <td>2.0</td>\n",
       "    </tr>\n",
       "    <tr>\n",
       "      <th>4</th>\n",
       "      <td>2</td>\n",
       "      <td>4.666667</td>\n",
       "      <td>impression</td>\n",
       "      <td>listened</td>\n",
       "      <td>27.0</td>\n",
       "      <td>2.0</td>\n",
       "    </tr>\n",
       "    <tr>\n",
       "      <th>...</th>\n",
       "      <td>...</td>\n",
       "      <td>...</td>\n",
       "      <td>...</td>\n",
       "      <td>...</td>\n",
       "      <td>...</td>\n",
       "      <td>...</td>\n",
       "    </tr>\n",
       "    <tr>\n",
       "      <th>112</th>\n",
       "      <td>38</td>\n",
       "      <td>8.333333</td>\n",
       "      <td>impression</td>\n",
       "      <td>listened</td>\n",
       "      <td>31.0</td>\n",
       "      <td>2.0</td>\n",
       "    </tr>\n",
       "    <tr>\n",
       "      <th>113</th>\n",
       "      <td>38</td>\n",
       "      <td>5.000000</td>\n",
       "      <td>hire</td>\n",
       "      <td>listened</td>\n",
       "      <td>31.0</td>\n",
       "      <td>2.0</td>\n",
       "    </tr>\n",
       "    <tr>\n",
       "      <th>114</th>\n",
       "      <td>39</td>\n",
       "      <td>5.333333</td>\n",
       "      <td>intellect</td>\n",
       "      <td>listened</td>\n",
       "      <td>33.0</td>\n",
       "      <td>2.0</td>\n",
       "    </tr>\n",
       "    <tr>\n",
       "      <th>115</th>\n",
       "      <td>39</td>\n",
       "      <td>5.666667</td>\n",
       "      <td>impression</td>\n",
       "      <td>listened</td>\n",
       "      <td>33.0</td>\n",
       "      <td>2.0</td>\n",
       "    </tr>\n",
       "    <tr>\n",
       "      <th>116</th>\n",
       "      <td>39</td>\n",
       "      <td>5.000000</td>\n",
       "      <td>hire</td>\n",
       "      <td>listened</td>\n",
       "      <td>33.0</td>\n",
       "      <td>2.0</td>\n",
       "    </tr>\n",
       "  </tbody>\n",
       "</table>\n",
       "<p>117 rows × 6 columns</p>\n",
       "</div>"
      ],
      "text/plain": [
       "     eval_id    Rating    Category condition   age  sex\n",
       "0          1  6.000000   intellect  listened  29.0  2.0\n",
       "1          1  7.000000  impression  listened  29.0  2.0\n",
       "2          1  6.000000        hire  listened  29.0  2.0\n",
       "3          2  5.666667   intellect  listened  27.0  2.0\n",
       "4          2  4.666667  impression  listened  27.0  2.0\n",
       "..       ...       ...         ...       ...   ...  ...\n",
       "112       38  8.333333  impression  listened  31.0  2.0\n",
       "113       38  5.000000        hire  listened  31.0  2.0\n",
       "114       39  5.333333   intellect  listened  33.0  2.0\n",
       "115       39  5.666667  impression  listened  33.0  2.0\n",
       "116       39  5.000000        hire  listened  33.0  2.0\n",
       "\n",
       "[117 rows x 6 columns]"
      ]
     },
     "execution_count": 75,
     "metadata": {},
     "output_type": "execute_result"
    }
   ],
   "source": [
    "# Join 'ratings2' with the 'df_evaluators' DataFrame to add the 'condition' column\n",
    "ratings2 = ratings2.merge(df_evaluators, on='eval_id')\n",
    "ratings2"
   ]
  },
  {
   "cell_type": "code",
   "execution_count": 76,
   "metadata": {},
   "outputs": [],
   "source": [
    "# Select only the necessary columns as per the structure required\n",
    "ratings2 = ratings2[['eval_id', 'Category', 'Rating', 'condition']]"
   ]
  },
  {
   "cell_type": "code",
   "execution_count": 77,
   "metadata": {},
   "outputs": [
    {
     "data": {
      "text/html": [
       "<div>\n",
       "<style scoped>\n",
       "    .dataframe tbody tr th:only-of-type {\n",
       "        vertical-align: middle;\n",
       "    }\n",
       "\n",
       "    .dataframe tbody tr th {\n",
       "        vertical-align: top;\n",
       "    }\n",
       "\n",
       "    .dataframe thead th {\n",
       "        text-align: right;\n",
       "    }\n",
       "</style>\n",
       "<table border=\"1\" class=\"dataframe\">\n",
       "  <thead>\n",
       "    <tr style=\"text-align: right;\">\n",
       "      <th></th>\n",
       "      <th>eval_id</th>\n",
       "      <th>Category</th>\n",
       "      <th>Rating</th>\n",
       "      <th>condition</th>\n",
       "    </tr>\n",
       "  </thead>\n",
       "  <tbody>\n",
       "    <tr>\n",
       "      <th>2</th>\n",
       "      <td>1</td>\n",
       "      <td>hire</td>\n",
       "      <td>6.000000</td>\n",
       "      <td>listened</td>\n",
       "    </tr>\n",
       "    <tr>\n",
       "      <th>1</th>\n",
       "      <td>1</td>\n",
       "      <td>impression</td>\n",
       "      <td>7.000000</td>\n",
       "      <td>listened</td>\n",
       "    </tr>\n",
       "    <tr>\n",
       "      <th>0</th>\n",
       "      <td>1</td>\n",
       "      <td>intellect</td>\n",
       "      <td>6.000000</td>\n",
       "      <td>listened</td>\n",
       "    </tr>\n",
       "    <tr>\n",
       "      <th>5</th>\n",
       "      <td>2</td>\n",
       "      <td>hire</td>\n",
       "      <td>4.000000</td>\n",
       "      <td>listened</td>\n",
       "    </tr>\n",
       "    <tr>\n",
       "      <th>4</th>\n",
       "      <td>2</td>\n",
       "      <td>impression</td>\n",
       "      <td>4.666667</td>\n",
       "      <td>listened</td>\n",
       "    </tr>\n",
       "  </tbody>\n",
       "</table>\n",
       "</div>"
      ],
      "text/plain": [
       "   eval_id    Category    Rating condition\n",
       "2        1        hire  6.000000  listened\n",
       "1        1  impression  7.000000  listened\n",
       "0        1   intellect  6.000000  listened\n",
       "5        2        hire  4.000000  listened\n",
       "4        2  impression  4.666667  listened"
      ]
     },
     "execution_count": 77,
     "metadata": {},
     "output_type": "execute_result"
    }
   ],
   "source": [
    "# Arrange by 'eval_id' and 'Category'\n",
    "ratings2 = ratings2.sort_values(by=['eval_id', 'Category'])\n",
    "\n",
    "# Display the first few rows of the final 'ratings2' DataFrame to verify\n",
    "ratings2.head()"
   ]
  },
  {
   "cell_type": "markdown",
   "metadata": {
    "id": "fOmtKCzEpoOa"
   },
   "source": [
    "###Step 3: Perform descriptive and inferential statistical analyses, including testing assumptions and conducting independent t-tests.\n",
    "\n",
    "We are going to run the t-tests for Intellect, Hire and Impression; each time comparing evaluators overall ratings for the listened group versus overall ratings for the read group to see if there was a significant difference between the two conditions: i.e., did the evaluators who listened to pitches give a significant higher or lower rating than evaluators that read pitches?\n",
    "\n",
    "**Question 6**:\n",
    "\n",
    "a. In terms of hypotheses, how can we phrase the hypothesis?\n",
    "\n",
    "b. Which t-test should we choose, one-tail or two-tail? And explian why.\n",
    "\n",
    "c. What are the independent variable and the dependent variable here?\n",
    "\n"
   ]
  },
  {
   "cell_type": "markdown",
   "metadata": {
    "id": "duti45rG22eS"
   },
   "source": [
    "Q6a (answer in words)\n",
    "\n",
    "Null hypothesis: There is no significant difference between overall ratings  intellect, impression, and hire,  between evaluators who listened to resume pitches and evaluators who read the resume pitches (H0:μ1=μ2). \n",
    "\n",
    "Alternative hypothesis: There will be a significant difference between overall ratings on  intellect, impression, and hire between evaluators who listened to resume pitches and evaluators who read the resume pitches (H1:μ1≠μ2)."
   ]
  },
  {
   "cell_type": "markdown",
   "metadata": {
    "id": "EkoM_0js3fyS"
   },
   "source": [
    "Q6b (answer in words)\n",
    "\n",
    "Which t-test should we choose, one-tail or two-tail? Explian why.\n",
    "\n",
    "We should choose a two-tail t-test. This is because we are exploring if there is a significant difference in overall ratings of  intellect, impression, and hire between the evaluators who listened to pitches and those who read pitches, without specifying the direction of the difference. "
   ]
  },
  {
   "cell_type": "markdown",
   "metadata": {
    "id": "073zOlIsI5ws"
   },
   "source": [
    "Q6c (answer in words)\n",
    "\n",
    "What are the independent variable and the dependent variable here?\n",
    "- Independent variable: The conditions of evaluating pitches (listening or reading).\n",
    "- Dependent variable: Overall ratings on the intellect scale given by the evaluators."
   ]
  },
  {
   "cell_type": "markdown",
   "metadata": {
    "id": "4g-SpuDX23iL"
   },
   "source": [
    "\n",
    "To clarify, we are going to run three between-subjects t-tests in total; one for intellect ratings; one for hire ratings; one for impression ratings.\n",
    "\n",
    "**Instructions:**\n",
    "\n",
    "1. Descriptive analysis of the ratings.\n",
    "\n",
    "2. Test for normal distribution (Shapiro-Wilk test) and homogeneity of variances (Levene's test) for the intellect, impression, and hire ratings.\n",
    "\n",
    "3. Conduct independent t-tests comparing intellect, impression, and hire ratings between conditions (listened vs. read).\n",
    "\n",
    "Hints: three T-tests need to be performed.\n",
    "\n",
    "**Question 7**:\n",
    "\n",
    "a: Print the test results.\n",
    "\n",
    "b: Interpret the results of the above descriptive statistics, Shapiro-Wilk test, Levene's test, and independent t-tests. Explian why we use these tests and how we made our decisions based on the test result."
   ]
  },
  {
   "cell_type": "code",
   "execution_count": 78,
   "metadata": {},
   "outputs": [],
   "source": [
    "##Q7a (code):\n",
    "# Import necessary library\n",
    "from scipy.stats import shapiro, levene, ttest_ind # used for Shapiro-Wilk test and Levene's test and independent t-tests "
   ]
  },
  {
   "cell_type": "code",
   "execution_count": 79,
   "metadata": {},
   "outputs": [
    {
     "data": {
      "text/html": [
       "<div>\n",
       "<style scoped>\n",
       "    .dataframe tbody tr th:only-of-type {\n",
       "        vertical-align: middle;\n",
       "    }\n",
       "\n",
       "    .dataframe tbody tr th {\n",
       "        vertical-align: top;\n",
       "    }\n",
       "\n",
       "    .dataframe thead th {\n",
       "        text-align: right;\n",
       "    }\n",
       "</style>\n",
       "<table border=\"1\" class=\"dataframe\">\n",
       "  <thead>\n",
       "    <tr style=\"text-align: right;\">\n",
       "      <th></th>\n",
       "      <th>eval_id</th>\n",
       "      <th>Rating</th>\n",
       "    </tr>\n",
       "  </thead>\n",
       "  <tbody>\n",
       "    <tr>\n",
       "      <th>count</th>\n",
       "      <td>117.000000</td>\n",
       "      <td>117.000000</td>\n",
       "    </tr>\n",
       "    <tr>\n",
       "      <th>mean</th>\n",
       "      <td>20.000000</td>\n",
       "      <td>4.561254</td>\n",
       "    </tr>\n",
       "    <tr>\n",
       "      <th>std</th>\n",
       "      <td>11.303036</td>\n",
       "      <td>2.240198</td>\n",
       "    </tr>\n",
       "    <tr>\n",
       "      <th>min</th>\n",
       "      <td>1.000000</td>\n",
       "      <td>0.000000</td>\n",
       "    </tr>\n",
       "    <tr>\n",
       "      <th>25%</th>\n",
       "      <td>10.000000</td>\n",
       "      <td>3.000000</td>\n",
       "    </tr>\n",
       "    <tr>\n",
       "      <th>50%</th>\n",
       "      <td>20.000000</td>\n",
       "      <td>4.666667</td>\n",
       "    </tr>\n",
       "    <tr>\n",
       "      <th>75%</th>\n",
       "      <td>30.000000</td>\n",
       "      <td>6.000000</td>\n",
       "    </tr>\n",
       "    <tr>\n",
       "      <th>max</th>\n",
       "      <td>39.000000</td>\n",
       "      <td>9.000000</td>\n",
       "    </tr>\n",
       "  </tbody>\n",
       "</table>\n",
       "</div>"
      ],
      "text/plain": [
       "          eval_id      Rating\n",
       "count  117.000000  117.000000\n",
       "mean    20.000000    4.561254\n",
       "std     11.303036    2.240198\n",
       "min      1.000000    0.000000\n",
       "25%     10.000000    3.000000\n",
       "50%     20.000000    4.666667\n",
       "75%     30.000000    6.000000\n",
       "max     39.000000    9.000000"
      ]
     },
     "execution_count": 79,
     "metadata": {},
     "output_type": "execute_result"
    }
   ],
   "source": [
    "# Descriptive analysis of the ratings\n",
    "# Get an overview of the dataframe\n",
    "ratings2.describe()"
   ]
  },
  {
   "cell_type": "code",
   "execution_count": 80,
   "metadata": {},
   "outputs": [
    {
     "name": "stdout",
     "output_type": "stream",
     "text": [
      "             Rating\n",
      "               mean\n",
      "condition          \n",
      "listened   5.439153\n",
      "read       3.537037\n"
     ]
    }
   ],
   "source": [
    "# Create a subet of a dataframe with groupby() bycondition of evaluating and aggregatethe intellect ratings. \n",
    "ratings3 = ratings2.groupby(\"condition\").agg({'Rating':['mean']})\n",
    "print(ratings3)"
   ]
  },
  {
   "cell_type": "code",
   "execution_count": 81,
   "metadata": {},
   "outputs": [
    {
     "name": "stdout",
     "output_type": "stream",
     "text": [
      "     eval_id    Category    Rating condition\n",
      "2          1        hire  6.000000  listened\n",
      "1          1  impression  7.000000  listened\n",
      "0          1   intellect  6.000000  listened\n",
      "5          2        hire  4.000000  listened\n",
      "4          2  impression  4.666667  listened\n",
      "..       ...         ...       ...       ...\n",
      "112       38  impression  8.333333  listened\n",
      "111       38   intellect  5.000000  listened\n",
      "116       39        hire  5.000000  listened\n",
      "115       39  impression  5.666667  listened\n",
      "114       39   intellect  5.333333  listened\n",
      "\n",
      "[63 rows x 4 columns]\n"
     ]
    }
   ],
   "source": [
    "# Create a sub-dataframe for the \"listened\" species using .loc[]\n",
    "rating_loc = ratings2.loc[ratings2[\"condition\"] == \"listened\"]\n",
    "print(rating_loc)"
   ]
  },
  {
   "cell_type": "code",
   "execution_count": 82,
   "metadata": {},
   "outputs": [],
   "source": [
    "#To obtain a sub-dataframe for 'listened' from groupby() by using the .get_group()\n",
    "sub_df = ratings2.groupby(\"condition\")\n",
    "listened = sub_df.get_group(\"listened\")"
   ]
  },
  {
   "cell_type": "code",
   "execution_count": 83,
   "metadata": {},
   "outputs": [],
   "source": [
    "#To obtain a sub-dataframe for 'read' from groupby() by using the .get_group()\n",
    "sub_df = ratings2.groupby(\"condition\")\n",
    "read = sub_df.get_group(\"read\")"
   ]
  },
  {
   "cell_type": "code",
   "execution_count": 84,
   "metadata": {},
   "outputs": [
    {
     "data": {
      "text/plain": [
       "<Axes: >"
      ]
     },
     "execution_count": 84,
     "metadata": {},
     "output_type": "execute_result"
    },
    {
     "data": {
      "image/png": "[encoded data removed]",
      "text/plain": [
       "<Figure size 640x480 with 1 Axes>"
      ]
     },
     "metadata": {},
     "output_type": "display_data"
    }
   ],
   "source": [
    "# For each condition, plot the sepal width using .hist()\n",
    "listened['Rating'].hist()"
   ]
  },
  {
   "cell_type": "code",
   "execution_count": 85,
   "metadata": {},
   "outputs": [
    {
     "data": {
      "text/plain": [
       "<Axes: >"
      ]
     },
     "execution_count": 85,
     "metadata": {},
     "output_type": "execute_result"
    },
    {
     "data": {
      "image/png": "[encoded data removed]",
      "text/plain": [
       "<Figure size 640x480 with 1 Axes>"
      ]
     },
     "metadata": {},
     "output_type": "display_data"
    }
   ],
   "source": [
    "read['Rating'].hist()"
   ]
  },
  {
   "cell_type": "code",
   "execution_count": 86,
   "metadata": {
    "id": "QD3ZZRrAq4Gc"
   },
   "outputs": [
    {
     "name": "stdout",
     "output_type": "stream",
     "text": [
      "listened: 0.976829469203949 0.2798358201980591\n"
     ]
    }
   ],
   "source": [
    "# Test for normal distribution (Shapiro-Wilk test)\n",
    "# Use the Shapiro-Wilk test in the statistical package of scipy with the function.\n",
    "# It returns the Shapiro-Wilk score and the p-value\n",
    "\n",
    "score_shapiro_versicolor, p_val_shapiro_versicolor = stats.shapiro(listened['Rating'])\n",
    "print(\"listened:\", score_shapiro_versicolor, p_val_shapiro_versicolor)"
   ]
  },
  {
   "cell_type": "code",
   "execution_count": 87,
   "metadata": {},
   "outputs": [
    {
     "name": "stdout",
     "output_type": "stream",
     "text": [
      "read: 0.9513711333274841 0.028553863987326622\n"
     ]
    }
   ],
   "source": [
    "score_shapiro_versicolor, p_val_shapiro_versicolor = stats.shapiro(read['Rating'])\n",
    "print(\"read:\", score_shapiro_versicolor, p_val_shapiro_versicolor)"
   ]
  },
  {
   "cell_type": "markdown",
   "metadata": {},
   "source": [
    "The data are normally distributed. p-values for each variable is largr than 0.05"
   ]
  },
  {
   "cell_type": "code",
   "execution_count": 88,
   "metadata": {},
   "outputs": [
    {
     "name": "stdout",
     "output_type": "stream",
     "text": [
      "0.8244717008386527 0.3657748415618852\n",
      "Levene's test is not significant - proceed\n"
     ]
    }
   ],
   "source": [
    "# Test for homogeneity of variances (Levene's test)\n",
    "# We use the Levene's test in the statistical package of scipy:\n",
    "# It returns the Levene score and the p-value\n",
    "\n",
    "score, p_val = stats.levene(listened['Rating'], read['Rating'])\n",
    "print(score, p_val)\n",
    "if p_val < 0.05:\n",
    "    print(\"Levene's test is significant - use Welch's test\")\n",
    "else:\n",
    "    print(\"Levene's test is not significant - proceed\")"
   ]
  },
  {
   "cell_type": "code",
   "execution_count": 89,
   "metadata": {},
   "outputs": [
    {
     "name": "stdout",
     "output_type": "stream",
     "text": [
      "intellect: 3.5259329220482414 0.0011444414996286821\n"
     ]
    }
   ],
   "source": [
    "# Independent t-test\n",
    "# We can use scipy stats.ttest_ind(). It returns the t-test score and the p-value\n",
    "# get subdataframe only containing intellect\n",
    "sub_ratings = ratings2.loc[ratings2['Category']=='intellect']\n",
    "#To obtain a sub-dataframe for 'listened' from groupby() by using the .get_group()\n",
    "sub_df0 = sub_ratings.groupby(\"condition\")\n",
    "listened = sub_df0.get_group(\"listened\")\n",
    "#To obtain a sub-dataframe for 'read' from groupby() by using the .get_group()\n",
    "sub_df1 = sub_ratings.groupby(\"condition\")\n",
    "read = sub_df1.get_group(\"read\")\n",
    "\n",
    "score0, p_val0 = stats.ttest_ind(listened['Rating'], read['Rating'])\n",
    "print(\"intellect:\", score0, p_val0)"
   ]
  },
  {
   "cell_type": "code",
   "execution_count": 90,
   "metadata": {},
   "outputs": [
    {
     "name": "stdout",
     "output_type": "stream",
     "text": [
      "impression: 2.850766179025179 0.007091060616710596\n"
     ]
    }
   ],
   "source": [
    "# get subdataframe only containing impression\n",
    "sub_ratings = ratings2.loc[ratings2['Category']=='impression']\n",
    "#To obtain a sub-dataframe for 'listened' from groupby() by using the .get_group()\n",
    "sub_df0 = sub_ratings.groupby(\"condition\")\n",
    "listened = sub_df0.get_group(\"listened\")\n",
    "#To obtain a sub-dataframe for 'read' from groupby() by using the .get_group()\n",
    "sub_df1 = sub_ratings.groupby(\"condition\")\n",
    "read = sub_df1.get_group(\"read\")\n",
    "\n",
    "score1, p_val1 = stats.ttest_ind(listened['Rating'], read['Rating'])\n",
    "print(\"impression:\", score1, p_val1)"
   ]
  },
  {
   "cell_type": "code",
   "execution_count": 91,
   "metadata": {},
   "outputs": [
    {
     "name": "stdout",
     "output_type": "stream",
     "text": [
      "hire: 2.620100218173143 0.012674511839824125\n"
     ]
    }
   ],
   "source": [
    "# get subdataframe only containing hire\n",
    "sub_ratings = ratings2.loc[ratings2['Category']=='hire']\n",
    "#To obtain a sub-dataframe for 'listened' from groupby() by using the .get_group()\n",
    "sub_df0 = sub_ratings.groupby(\"condition\")\n",
    "listened = sub_df0.get_group(\"listened\")\n",
    "#To obtain a sub-dataframe for 'read' from groupby() by using the .get_group()\n",
    "sub_df1 = sub_ratings.groupby(\"condition\")\n",
    "read = sub_df1.get_group(\"read\")\n",
    "\n",
    "score2, p_val2 = stats.ttest_ind(listened['Rating'], read['Rating'])\n",
    "print(\"hire:\", score2, p_val2)"
   ]
  },
  {
   "cell_type": "code",
   "execution_count": 92,
   "metadata": {},
   "outputs": [
    {
     "name": "stdout",
     "output_type": "stream",
     "text": [
      "Difference is statistically significant - reject H0, confirm H1\n"
     ]
    }
   ],
   "source": [
    "if ((p_val0 < 0.05 and p_val1<0.05 and p_val2 < 0.05)):\n",
    "    print(\"Difference is statistically significant - reject H0, confirm H1\")\n",
    "else:\n",
    "    print(\"Difference is NOT statistically significant - reject H1, confirm H0\")"
   ]
  },
  {
   "cell_type": "markdown",
   "metadata": {
    "id": "aifm_T8UQwYm"
   },
   "source": [
    "Q7b (answer in words)\n",
    "\n",
    "1. Descriptive Statistics: Descriptive statistics provide a summary of the data, such as mean. These statistics help us understand the central tendency of the data. In the given results, the mean intellect rating of listened is 5.634921, which is higher than the mean rating of read, which is 3.648148. Thus, it might suggest that there is a difference on evaluating between the two methods (listened and read). \n",
    "\n",
    "2. Shapiro-Wilk Test: The Shapiro-Wilk test is used to assess the normality of the data distribution. The test provides a p-value. We can reject the hypothesis of normality, if the p-value is less than or equal to 0.05. For both listened and read datasets, the p-values are greater than 0.05. Thus, we can assume that the intellect ratings in both datasets are normally distributed.\n",
    "\n",
    "3. Levene's Test: Levene's test is used to assess if the variances of the intellect ratings between the two groups (listened and read) are equal. The test provides a p-value. If the p-value is greater than 0.05, we cannot reject the null hypothesis of equal variances. In the given results, the p-value is not significant. Thus, there is perhaps no significant difference in variances between the 'listened' and 'read' groups. As the result is not significant, we apply the independent t-test. \n",
    "\n",
    "4. Independent t-Test: t-test is used when the statistic follows a normal distribution, but the variance is unknown. The independent t-test is used if the variances between the two groups are equal. The test provides a test statistic and a p-value. If the p-value is less than 0.05, we have can reject the null hypothesis. In the given results, all the three p-value are less than 0.05. Thus, we can conclude that there is a significant difference in the mean intellect ratings between the listened and read groups."
   ]
  },
  {
   "cell_type": "code",
   "execution_count": null,
   "metadata": {},
   "outputs": [],
   "source": []
  }
 ],
 "metadata": {
  "colab": {
   "provenance": []
  },
  "kernelspec": {
   "display_name": "Python 3 (ipykernel)",
   "language": "python",
   "name": "python3"
  },
  "language_info": {
   "codemirror_mode": {
    "name": "ipython",
    "version": 3
   },
   "file_extension": ".py",
   "mimetype": "text/x-python",
   "name": "python",
   "nbconvert_exporter": "python",
   "pygments_lexer": "ipython3",
   "version": "3.11.5"
  }
 },
 "nbformat": 4,
 "nbformat_minor": 4
}
